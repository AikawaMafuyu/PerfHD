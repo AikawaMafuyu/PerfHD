import torch
import json
import numpy as np
from tqdm.notebook import tqdm
from scipy.stats import kendalltau
device = torch.device("cuda:0")
